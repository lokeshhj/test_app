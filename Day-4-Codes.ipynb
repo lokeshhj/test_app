{
 "cells": [
  {
   "cell_type": "code",
   "execution_count": 1,
   "source": [
    "var = 100\r\n",
    "var1 = 150\r\n",
    "if var < 200:\r\n",
    "    print(\"Expression value is less than 200\")\r\n",
    "    if var == 150:\r\n",
    "       print(\"Which is 150\")\r\n",
    "    elif var == 100:\r\n",
    "       print(\"Which is 100\")\r\n",
    "    elif var == 50:\r\n",
    "       print(\"Which is 50\")\r\n",
    "if var1 >100:\r\n",
    "    if var1< 200:\r\n",
    "        print(\"Var1 is between 100 and 200\")\r\n",
    "    elif var1>200:\r\n",
    "        print(\"var1 is greater than 200\")\r\n",
    "\r\n"
   ],
   "outputs": [
    {
     "output_type": "stream",
     "name": "stdout",
     "text": [
      "Expression value is less than 200\n",
      "Which is 100\n"
     ]
    }
   ],
   "metadata": {}
  },
  {
   "cell_type": "code",
   "execution_count": 3,
   "source": [
    "x = 0\r\n",
    "while (x < 9):\r\n",
    "    print ('The count is:', x,'And hence, we understood while loop',2*x,'times')\r\n",
    "    x = x + 2\r\n"
   ],
   "outputs": [
    {
     "output_type": "stream",
     "name": "stdout",
     "text": [
      "The count is: 0 And hence, we understood while loop 0 times\n",
      "The count is: 2 And hence, we understood while loop 4 times\n",
      "The count is: 4 And hence, we understood while loop 8 times\n",
      "The count is: 6 And hence, we understood while loop 12 times\n",
      "The count is: 8 And hence, we understood while loop 16 times\n"
     ]
    }
   ],
   "metadata": {}
  },
  {
   "cell_type": "code",
   "execution_count": 8,
   "source": [
    "# Sum of first n natural numbers\r\n",
    "\r\n",
    "x = int(input('Enter any positive number'))\r\n",
    "\r\n",
    "if x<0:\r\n",
    "    print(\"Number should be positive\")\r\n",
    "else:\r\n",
    "    sum = 0\r\n",
    "    while x>0:\r\n",
    "        sum+=x\r\n",
    "        x=x-1\r\n",
    "    print('The sum is',sum)"
   ],
   "outputs": [
    {
     "output_type": "stream",
     "name": "stdout",
     "text": [
      "The sum is 55\n"
     ]
    }
   ],
   "metadata": {}
  },
  {
   "cell_type": "code",
   "execution_count": 2,
   "source": [
    "a = int(input('Enter starting value of series'))\r\n",
    "d = int(input('Enter common difference'))\r\n",
    "m= int(input('Enter total number of values'))\r\n",
    "\r\n",
    "x=1\r\n",
    "while x<=m:\r\n",
    "    series = a+(x-1)*d\r\n",
    "    print(series)\r\n",
    "    x=x+1 "
   ],
   "outputs": [],
   "metadata": {}
  },
  {
   "cell_type": "code",
   "execution_count": 8,
   "source": [
    "import random\r\n",
    "\r\n",
    "#Creating tuple of Heads and Tails\r\n",
    "toss = ('Heads','Tails') \r\n",
    "Heads_coinToss,Tails_coinToss = 0,0\r\n",
    "total_games = 0\r\n",
    "\r\n",
    "while True:\r\n",
    "    flipCoin = random.choice(toss)\r\n",
    "    yourChoice = input('Type Heads or Tails: ')\r\n",
    "    if yourChoice == 'Exit':\r\n",
    "        # Summary of total games played and total heads/tails that had come\r\n",
    "        print('Total Games played = ',total_games)\r\n",
    "        print('Heads={}'.format(Heads_coinToss))\r\n",
    "        print('Tails={}'.format(Tails_coinToss))\r\n",
    "        break\r\n",
    "    if yourChoice == flipCoin:\r\n",
    "        print('You won: ',flipCoin)\r\n",
    "        total_games+=1\r\n",
    "    else:\r\n",
    "        print('You loose: ',flipCoin)\r\n",
    "        total_games+=1\r\n",
    "    if flipCoin=='Heads':\r\n",
    "        Heads_coinToss+=1\r\n",
    "    elif flipCoin=='Tails':\r\n",
    "        Tails_coinToss+=1\r\n",
    "\r\n",
    "\r\n"
   ],
   "outputs": [
    {
     "output_type": "stream",
     "name": "stdout",
     "text": [
      "You won:  Heads\n",
      "You loose:  Heads\n",
      "Total Games played = 2\n",
      "Heads=2\n",
      "Tails=0\n"
     ]
    }
   ],
   "metadata": {}
  },
  {
   "cell_type": "code",
   "execution_count": 12,
   "source": [
    "for letter in'IIQFNew':\r\n",
    "    if letter =='N':\r\n",
    "        continue\r\n",
    "    print('current letter:',letter)"
   ],
   "outputs": [
    {
     "output_type": "stream",
     "name": "stdout",
     "text": [
      "current letter: I\n",
      "current letter: I\n",
      "current letter: Q\n",
      "current letter: F\n",
      "current letter: e\n",
      "current letter: w\n"
     ]
    }
   ],
   "metadata": {}
  },
  {
   "cell_type": "code",
   "execution_count": 15,
   "source": [
    "for num in range(10,20):  \r\n",
    "    for i in range(2,num):\r\n",
    "        if num%i == 0:\r\n",
    "            j=num/i \r\n",
    "            print('%d equals %d * %d' % (num,i,j))\r\n",
    "            break \r\n",
    "    else:       \r\n",
    "        print(num, 'is a prime number')\r\n"
   ],
   "outputs": [
    {
     "output_type": "stream",
     "name": "stdout",
     "text": [
      "10 equals 2 * 5\n",
      "11 is a prime number\n",
      "12 equals 2 * 6\n",
      "13 is a prime number\n",
      "14 equals 2 * 7\n",
      "15 equals 3 * 5\n",
      "16 equals 2 * 8\n",
      "17 is a prime number\n",
      "18 equals 2 * 9\n",
      "19 is a prime number\n"
     ]
    }
   ],
   "metadata": {}
  },
  {
   "cell_type": "code",
   "execution_count": 16,
   "source": [
    "for letter in 'Python': \r\n",
    "    if letter == 'h':\r\n",
    "        pass\r\n",
    "        print('This is pass block')\r\n",
    "    print('Current Letter :', letter)\r\n"
   ],
   "outputs": [
    {
     "output_type": "stream",
     "name": "stdout",
     "text": [
      "Current Letter : P\n",
      "Current Letter : y\n",
      "Current Letter : t\n",
      "This is pass block\n",
      "Current Letter : h\n",
      "Current Letter : o\n",
      "Current Letter : n\n"
     ]
    }
   ],
   "metadata": {}
  }
 ],
 "metadata": {
  "orig_nbformat": 4,
  "language_info": {
   "name": "python",
   "version": "3.8.3",
   "mimetype": "text/x-python",
   "codemirror_mode": {
    "name": "ipython",
    "version": 3
   },
   "pygments_lexer": "ipython3",
   "nbconvert_exporter": "python",
   "file_extension": ".py"
  },
  "kernelspec": {
   "name": "python3",
   "display_name": "Python 3.8.3 64-bit ('base': conda)"
  },
  "interpreter": {
   "hash": "d5d8836774b43077ccdd448c7158b2b3c8a69987124878e485e5eb39b6a6b69e"
  }
 },
 "nbformat": 4,
 "nbformat_minor": 2
}